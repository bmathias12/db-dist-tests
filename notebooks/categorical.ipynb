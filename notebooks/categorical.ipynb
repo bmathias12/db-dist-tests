{
 "cells": [
  {
   "cell_type": "code",
   "execution_count": 1,
   "metadata": {},
   "outputs": [],
   "source": [
    "import matplotlib.pyplot as plt\n",
    "import numpy as np\n",
    "import pandas as pd\n",
    "from scipy import stats\n",
    "import seaborn as sns\n",
    "\n",
    "COLORS = ['#004050', '#BA0C2F']"
   ]
  },
  {
   "cell_type": "markdown",
   "metadata": {},
   "source": [
    "# Check Elements in Set"
   ]
  },
  {
   "cell_type": "code",
   "execution_count": 2,
   "metadata": {},
   "outputs": [],
   "source": [
    "expected = {\n",
    "    'Male',\n",
    "    'Female',\n",
    "    'Inferred Male',\n",
    "    'Inferred Female'\n",
    "}"
   ]
  },
  {
   "cell_type": "code",
   "execution_count": 3,
   "metadata": {},
   "outputs": [
    {
     "data": {
      "text/plain": [
       "True"
      ]
     },
     "execution_count": 3,
     "metadata": {},
     "output_type": "execute_result"
    }
   ],
   "source": [
    "s = pd.Series(['Male', 'Female', 'Female', 'Inferred Male'])\n",
    "np.all(s.isin(expected))"
   ]
  },
  {
   "cell_type": "markdown",
   "metadata": {},
   "source": [
    "# Check Distribution of Categories"
   ]
  },
  {
   "cell_type": "code",
   "execution_count": 4,
   "metadata": {},
   "outputs": [
    {
     "data": {
      "text/plain": [
       "Male               40036\n",
       "Female             39779\n",
       "Inferred Female    10143\n",
       "Inferred Male      10042\n",
       "dtype: int64"
      ]
     },
     "execution_count": 4,
     "metadata": {},
     "output_type": "execute_result"
    }
   ],
   "source": [
    "def create_categorical_series(categories, probs, size):\n",
    "    x = np.random.choice(a=categories, p=probs, size=size, replace=True)\n",
    "    return pd.Series(x)\n",
    "\n",
    "categories = ['Male', 'Female', 'Inferred Male', 'Inferred Female']\n",
    "probs = [0.4, 0.4, 0.1, 0.1]\n",
    "size = 100000\n",
    "\n",
    "x = create_categorical_series(categories, probs, size)\n",
    "x.value_counts()"
   ]
  },
  {
   "cell_type": "markdown",
   "metadata": {},
   "source": []
  }
 ],
 "metadata": {
  "interpreter": {
   "hash": "a78c67ef627ea8821a87ac502d9b90b23191c7f377a670f87f85825b8e2249f0"
  },
  "kernelspec": {
   "display_name": "Python 3.9.4 64-bit ('env': venv)",
   "language": "python",
   "name": "python3"
  },
  "language_info": {
   "codemirror_mode": {
    "name": "ipython",
    "version": 3
   },
   "file_extension": ".py",
   "mimetype": "text/x-python",
   "name": "python",
   "nbconvert_exporter": "python",
   "pygments_lexer": "ipython3",
   "version": "3.9.4"
  },
  "orig_nbformat": 4
 },
 "nbformat": 4,
 "nbformat_minor": 2
}
